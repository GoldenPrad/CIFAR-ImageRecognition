{
  "nbformat": 4,
  "nbformat_minor": 0,
  "metadata": {
    "colab": {
      "provenance": []
    },
    "kernelspec": {
      "name": "python3",
      "display_name": "Python 3"
    },
    "language_info": {
      "name": "python"
    }
  },
  "cells": [
    {
      "cell_type": "markdown",
      "source": [
        "#Understanding the CIFAR Data\n",
        "\n",
        "For a more general image recognition challenge, you will need a more general dataset, such as CIFAR that has labeled images for ten different things.\n",
        "\n",
        "Important information about the CIFAR dataset.\n",
        "\n",
        "*   Image Size: Each image is 32 x 32 pixels\n",
        "*   Amount of Images: 50,000 training and 10,000 test images\n",
        "*   Amount of output classes: there are 10 possible output classes in this dataset\n",
        "*    Colors: there are three color channels in these images, one for red, green, and blue.\n",
        "\n",
        "##Preparing the Data\n",
        "\n"
      ],
      "metadata": {
        "id": "su7_sg8hXvO3"
      }
    },
    {
      "cell_type": "code",
      "execution_count": 47,
      "metadata": {
        "id": "1djhmOAZWTLm"
      },
      "outputs": [],
      "source": [
        "import tensorflow as tf\n",
        "from tensorflow import keras\n",
        "from tensorflow.keras.datasets import cifar10\n",
        "from tensorflow.keras import backend as K\n",
        "import numpy as np\n",
        "import matplotlib.pyplot as plt\n",
        "%matplotlib inline\n",
        "\n",
        "# Helper functions\n",
        "def show_min_max(array, i):\n",
        "  random_image = array[i]\n",
        "  print(\"min and max value in image: \", random_image.min(), random_image.max())\n",
        "\n",
        "\n",
        "def plot_image(array, i, labels):\n",
        "  plt.imshow(np.squeeze(array[i]))\n",
        "  plt.title(str(label_names[labels[i]]))\n",
        "  plt.xticks([])\n",
        "  plt.yticks([])\n",
        "  plt.show()\n"
      ]
    },
    {
      "cell_type": "code",
      "source": [
        "# Variables to keep track of image size\n",
        "img_rows = 32\n",
        "img_cols = 32\n"
      ],
      "metadata": {
        "id": "EXPjwel9YkR0"
      },
      "execution_count": 48,
      "outputs": []
    },
    {
      "cell_type": "code",
      "source": [
        "# The number of posssible output classes in this dataset\n",
        "num_classes = 10"
      ],
      "metadata": {
        "id": "mQEd_UmGYwLs"
      },
      "execution_count": 49,
      "outputs": []
    },
    {
      "cell_type": "code",
      "source": [
        "# The names of each output class.\n",
        "label_names=['airplane', 'automobile', 'bird', 'cat', 'deer', 'dog', 'frog', 'horse', 'ship', 'truck']\n"
      ],
      "metadata": {
        "id": "8I3VYPkHY1ls"
      },
      "execution_count": 50,
      "outputs": []
    },
    {
      "cell_type": "code",
      "source": [
        "# Code to load in the data\n",
        "(train_images, train_labels), (test_images, test_labels) = cifar10.load_data()\n",
        "# Code to load a backup copy of the data\n",
        "(train_images_backup, train_labels_backup), (test_images_backup, test_labels_backup) = cifar10.load_data()"
      ],
      "metadata": {
        "id": "ILDEmVbQZBJF"
      },
      "execution_count": 51,
      "outputs": []
    },
    {
      "cell_type": "code",
      "source": [
        "#Convert the label arrays.\n",
        "train_labels_backup = [item for sublist in train_labels_backup for item in sublist]\n",
        "test_labels_backup = [item for sublist in test_labels_backup for item in sublist]"
      ],
      "metadata": {
        "id": "5T7YDm1QZJ6s"
      },
      "execution_count": 52,
      "outputs": []
    },
    {
      "cell_type": "code",
      "source": [
        "# Print out the shape of the datasets, make sure it matches expectations\n",
        "print(train_images.shape)\n",
        "print(test_images.shape)"
      ],
      "metadata": {
        "id": "C5x1LcmbZb8s",
        "colab": {
          "base_uri": "https://localhost:8080/"
        },
        "outputId": "c49f5bcf-618d-4a1e-e5ed-cfaf920554e6"
      },
      "execution_count": 53,
      "outputs": [
        {
          "output_type": "stream",
          "name": "stdout",
          "text": [
            "(50000, 32, 32, 3)\n",
            "(10000, 32, 32, 3)\n"
          ]
        }
      ]
    },
    {
      "cell_type": "code",
      "source": [
        "# Create input shape variable\n",
        "input_shape = (img_rows, img_cols, 3)"
      ],
      "metadata": {
        "id": "MBRHYIw-Zo5b"
      },
      "execution_count": 54,
      "outputs": []
    },
    {
      "cell_type": "code",
      "source": [
        "# Show the 100th image using plot_image to make sure data loaded properly\n",
        "plot_image(train_images, 100, train_labels_backup)"
      ],
      "metadata": {
        "colab": {
          "base_uri": "https://localhost:8080/",
          "height": 428
        },
        "id": "Kucq4iqhZPg1",
        "outputId": "28de7182-ffdc-4f91-b995-d17e57252815"
      },
      "execution_count": 55,
      "outputs": [
        {
          "output_type": "display_data",
          "data": {
            "text/plain": [
              "<Figure size 640x480 with 1 Axes>"
            ],
            "image/png": "[encoded data removed]"
          },
          "metadata": {}
        }
      ]
    },
    {
      "cell_type": "code",
      "source": [
        "# Show the min and max value of the 100th image\n",
        "show_min_max(train_images, 100)"
      ],
      "metadata": {
        "id": "jZ7-igd0Zv8t",
        "colab": {
          "base_uri": "https://localhost:8080/"
        },
        "outputId": "2d1a2f4e-5dc4-459d-81c7-8b3b3a532d16"
      },
      "execution_count": 56,
      "outputs": [
        {
          "output_type": "stream",
          "name": "stdout",
          "text": [
            "min and max value in image:  30 242\n"
          ]
        }
      ]
    },
    {
      "cell_type": "code",
      "source": [
        "# Reformat the data to float32\n",
        "train_images = train_images.astype('float32')\n",
        "test_images = test_images.astype('float32')\n"
      ],
      "metadata": {
        "id": "nKEDiJ1ZZ0nk"
      },
      "execution_count": 57,
      "outputs": []
    },
    {
      "cell_type": "code",
      "source": [
        "# Normalize values\n",
        "train_images /= 255\n",
        "test_images /= 255"
      ],
      "metadata": {
        "id": "hV6n5cAVZ4_c"
      },
      "execution_count": 58,
      "outputs": []
    },
    {
      "cell_type": "code",
      "source": [
        "# Show the 100th image and it's min and max to make sure the normalization process worked properly\n",
        "plot_image(train_images, 100, train_labels_backup)\n",
        "show_min_max(train_images, 100)"
      ],
      "metadata": {
        "id": "1rU7XAmcaArG",
        "colab": {
          "base_uri": "https://localhost:8080/",
          "height": 445
        },
        "outputId": "f1a55c20-45e7-483f-86cb-702823f56144"
      },
      "execution_count": 59,
      "outputs": [
        {
          "output_type": "display_data",
          "data": {
            "text/plain": [
              "<Figure size 640x480 with 1 Axes>"
            ],
            "image/png": "[encoded data removed]"
          },
          "metadata": {}
        },
        {
          "output_type": "stream",
          "name": "stdout",
          "text": [
            "min and max value in image:  0.11764706 0.9490196\n"
          ]
        }
      ]
    },
    {
      "cell_type": "code",
      "source": [
        "# Convert to one-hot encoding\n",
        "train_labels = keras.utils.to_categorical(train_labels, num_classes)\n",
        "test_labels = keras.utils.to_categorical(test_labels, num_classes)\n"
      ],
      "metadata": {
        "id": "F6Mv5ajOaFkk"
      },
      "execution_count": 60,
      "outputs": []
    },
    {
      "cell_type": "markdown",
      "source": [
        "#Building a Network for CIFAR\n",
        "\n",
        "Now that the data is prepared it is ready to feed into a network. Since this data is relatively complicated, it makes sense to use another convolutional network."
      ],
      "metadata": {
        "id": "LDOXEQG1dC6T"
      }
    },
    {
      "cell_type": "code",
      "source": [
        "from tensorflow.keras.models import Sequential\n",
        "from tensorflow.keras.layers import Dense, Dropout, Flatten, Conv2D, MaxPooling2D, BatchNormalization\n",
        "from tensorflow.keras.optimizers import Adam"
      ],
      "metadata": {
        "id": "Gbx6IY2pdJVr"
      },
      "execution_count": 61,
      "outputs": []
    },
    {
      "cell_type": "code",
      "source": [
        "epochs = 10\n",
        "batch_size = 64\n",
        "\n",
        "model = Sequential()"
      ],
      "metadata": {
        "id": "xDS-9D_MdULT"
      },
      "execution_count": 62,
      "outputs": []
    },
    {
      "cell_type": "markdown",
      "source": [
        "##Adding Convolutional Layers\n"
      ],
      "metadata": {
        "id": "vsM1xBzgdavT"
      }
    },
    {
      "cell_type": "code",
      "source": [
        "# Add a Conv2D layer with 32 filters, kernel_size of (3,3) activation of 'relu' and input_shape\n",
        "model.add(Conv2D(32, (3, 3), activation='relu', input_shape=(32, 32, 3)))\n",
        "\n",
        "# Add a Conv2D layer with 64 filters, kernel_size of (3,3) activation of 'relu'\n",
        "model.add(Conv2D(64, (3, 3), activation='relu'))\n",
        "\n",
        "# Add a pooling layer with a pool size of (2,2)\n",
        "model.add(MaxPooling2D((2, 2)))\n",
        "\n",
        "# Add a dropout layer with a rate of 0.2\n",
        "model.add(Dropout(0.2))\n"
      ],
      "metadata": {
        "id": "XZCAcmcnd7Wq"
      },
      "execution_count": 63,
      "outputs": []
    },
    {
      "cell_type": "markdown",
      "source": [
        "####Batch Normalization\n"
      ],
      "metadata": {
        "id": "TFndBeqXyiTN"
      }
    },
    {
      "cell_type": "code",
      "source": [
        "model.add(BatchNormalization())"
      ],
      "metadata": {
        "id": "27fZNOpPMedg"
      },
      "execution_count": 64,
      "outputs": []
    },
    {
      "cell_type": "markdown",
      "source": [
        "##Adding More Layers\n",
        "\n"
      ],
      "metadata": {
        "id": "ZX2XsthDMn-W"
      }
    },
    {
      "cell_type": "code",
      "source": [
        "# Add a convolutional layer with 64 filters, kernel size of (3,3) and an activation of 'relu'\n",
        "model.add(Conv2D(64, (3, 3), activation='relu'))\n",
        "\n",
        "# Add a max pooling layer of pool size (1,1)\n",
        "model.add(MaxPooling2D((1, 1)))\n",
        "\n",
        "# Add a dropout layer with rate 0.3\n",
        "model.add(Dropout(0.3))\n",
        "\n",
        "# Add a batch normalization layer\n",
        "model.add(BatchNormalization())\n"
      ],
      "metadata": {
        "id": "iISUN9HjM3jX"
      },
      "execution_count": 65,
      "outputs": []
    },
    {
      "cell_type": "markdown",
      "source": [
        "##The Final Stage of Layers\n",
        "\n",
        "Add another set of layers.\n"
      ],
      "metadata": {
        "id": "9FXTNFqbM_yG"
      }
    },
    {
      "cell_type": "code",
      "source": [
        "# Add a convolutional layer with 128 filters, kernel size of (3,3) and an activation of 'relu'\n",
        "model.add(Conv2D(128, (3, 3), activation='relu'))\n",
        "\n",
        "# Add a convolutional layer with 64 filters, kernel size of (3,3) and an activation of 'relu'\n",
        "model.add(Conv2D(64, (3, 3), activation='relu'))\n",
        "\n",
        "# Add a max pooling layer of pool size (1,1)\n",
        "model.add(MaxPooling2D((1, 1)))\n",
        "\n",
        "# Add a dropout layer with rate 0.3\n",
        "model.add(Dropout(0.3))\n",
        "\n",
        "# Add a batch normalization layer\n",
        "model.add(BatchNormalization())\n"
      ],
      "metadata": {
        "id": "WmoCTqaVM_hf"
      },
      "execution_count": 66,
      "outputs": []
    },
    {
      "cell_type": "markdown",
      "source": [
        "##The Output Layers\n",
        "\n",
        "Now it's time to prepare the data for the output. Add some layers to organize the information that the network has and reshape it into the decision layer.\n",
        "\n"
      ],
      "metadata": {
        "id": "lofggvxxNT_2"
      }
    },
    {
      "cell_type": "code",
      "source": [
        "# Add a flatten layer\n",
        "model.add(Flatten())\n",
        "\n",
        "# Add a dense layer with 128 units and activation of 'relu'\n",
        "model.add(Dense(128, activation='relu'))\n",
        "\n",
        "# Add a dense output layer with the same number of units as there are classes and an activation of 'softmax'\n",
        "model.add(Dense(10, activation='softmax'))\n",
        "\n",
        "# Print out the summary of the network\n",
        "model.summary()\n"
      ],
      "metadata": {
        "id": "I4NuVzedNeHk",
        "colab": {
          "base_uri": "https://localhost:8080/"
        },
        "outputId": "9377f675-a731-45c4-c09d-66c517190b4e"
      },
      "execution_count": 67,
      "outputs": [
        {
          "output_type": "stream",
          "name": "stdout",
          "text": [
            "Model: \"sequential_2\"\n",
            "_________________________________________________________________\n",
            " Layer (type)                Output Shape              Param #   \n",
            "=================================================================\n",
            " conv2d_10 (Conv2D)          (None, 30, 30, 32)        896       \n",
            "                                                                 \n",
            " conv2d_11 (Conv2D)          (None, 28, 28, 64)        18496     \n",
            "                                                                 \n",
            " max_pooling2d_6 (MaxPoolin  (None, 14, 14, 64)        0         \n",
            " g2D)                                                            \n",
            "                                                                 \n",
            " dropout_6 (Dropout)         (None, 14, 14, 64)        0         \n",
            "                                                                 \n",
            " batch_normalization_6 (Bat  (None, 14, 14, 64)        256       \n",
            " chNormalization)                                                \n",
            "                                                                 \n",
            " conv2d_12 (Conv2D)          (None, 12, 12, 64)        36928     \n",
            "                                                                 \n",
            " max_pooling2d_7 (MaxPoolin  (None, 12, 12, 64)        0         \n",
            " g2D)                                                            \n",
            "                                                                 \n",
            " dropout_7 (Dropout)         (None, 12, 12, 64)        0         \n",
            "                                                                 \n",
            " batch_normalization_7 (Bat  (None, 12, 12, 64)        256       \n",
            " chNormalization)                                                \n",
            "                                                                 \n",
            " conv2d_13 (Conv2D)          (None, 10, 10, 128)       73856     \n",
            "                                                                 \n",
            " conv2d_14 (Conv2D)          (None, 8, 8, 64)          73792     \n",
            "                                                                 \n",
            " max_pooling2d_8 (MaxPoolin  (None, 8, 8, 64)          0         \n",
            " g2D)                                                            \n",
            "                                                                 \n",
            " dropout_8 (Dropout)         (None, 8, 8, 64)          0         \n",
            "                                                                 \n",
            " batch_normalization_8 (Bat  (None, 8, 8, 64)          256       \n",
            " chNormalization)                                                \n",
            "                                                                 \n",
            " flatten_2 (Flatten)         (None, 4096)              0         \n",
            "                                                                 \n",
            " dense_4 (Dense)             (None, 128)               524416    \n",
            "                                                                 \n",
            " dense_5 (Dense)             (None, 10)                1290      \n",
            "                                                                 \n",
            "=================================================================\n",
            "Total params: 730442 (2.79 MB)\n",
            "Trainable params: 730058 (2.78 MB)\n",
            "Non-trainable params: 384 (1.50 KB)\n",
            "_________________________________________________________________\n"
          ]
        }
      ]
    },
    {
      "cell_type": "markdown",
      "source": [
        "#Compiling and Training the Model\n",
        "\n",
        "Now that we have the network, it is time to compile and train it.\n",
        "\n"
      ],
      "metadata": {
        "id": "huP1EgCNNs9t"
      }
    },
    {
      "cell_type": "code",
      "source": [
        "# Compile the network using categorical crossentropy, the adam optimizer, and the metrics of 'accuracy'\n",
        "model.compile(optimizer = Adam(),\n",
        "              loss='categorical_crossentropy',\n",
        "              metrics=['accuracy'])\n",
        "\n",
        "# Fit the model using the training images and labels, the batch size and epochs you set up earlier, validation data, and set shuffle to True\n",
        "history = model.fit(train_images, train_labels,\n",
        "                    batch_size=64,\n",
        "                    epochs=10,\n",
        "                    validation_data=(test_images, test_labels),\n",
        "                    shuffle=True)\n",
        "\n",
        "# Save the scores using the evaluate function and test data\n",
        "scores = model.evaluate(test_images, test_labels, verbose=0)\n",
        "\n",
        "# Print out the test accuracy\n",
        "print(f'Test accuracy: {scores[1] * 100:.2f}%')\n"
      ],
      "metadata": {
        "id": "0celLSD6N4nd",
        "colab": {
          "base_uri": "https://localhost:8080/"
        },
        "outputId": "03b0f883-020e-491d-f42c-9394b2eb7127"
      },
      "execution_count": null,
      "outputs": [
        {
          "output_type": "stream",
          "name": "stdout",
          "text": [
            "Epoch 1/10\n",
            "782/782 [==============================] - 377s 428ms/step - loss: 1.5236 - accuracy: 0.4636 - val_loss: 1.3283 - val_accuracy: 0.5195\n",
            "Epoch 2/10\n",
            "782/782 [==============================] - 331s 424ms/step - loss: 1.0474 - accuracy: 0.6260 - val_loss: 0.9761 - val_accuracy: 0.6446\n",
            "Epoch 3/10\n",
            "449/782 [================>.............] - ETA: 2:16 - loss: 0.8821 - accuracy: 0.6902"
          ]
        }
      ]
    },
    {
      "cell_type": "code",
      "source": [
        "#Saving the model\n",
        "model.save('CIFAR_model.h5')"
      ],
      "metadata": {
        "id": "Ycj3zjRjVGWt"
      },
      "execution_count": null,
      "outputs": []
    }
  ]
}